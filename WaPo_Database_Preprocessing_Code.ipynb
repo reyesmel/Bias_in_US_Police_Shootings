{
  "nbformat": 4,
  "nbformat_minor": 0,
  "metadata": {
    "colab": {
      "provenance": []
    },
    "kernelspec": {
      "name": "python3",
      "display_name": "Python 3"
    },
    "language_info": {
      "name": "python"
    }
  },
  "cells": [
    {
      "cell_type": "code",
      "execution_count": null,
      "metadata": {
        "colab": {
          "base_uri": "https://localhost:8080/"
        },
        "id": "KJi7waOEtLUj",
        "outputId": "3183bc0c-6e73-4f19-b35f-636a803446ee"
      },
      "outputs": [
        {
          "output_type": "stream",
          "name": "stdout",
          "text": [
            "Drive already mounted at /content/drive; to attempt to forcibly remount, call drive.mount(\"/content/drive\", force_remount=True).\n"
          ]
        }
      ],
      "source": [
        "from google.colab import drive\n",
        "drive.mount('/content/drive')"
      ]
    },
    {
      "cell_type": "code",
      "source": [
        "#MELISSA'S PATH\n",
        "path = \"/content/drive/MyDrive/DSCI532/project/\"\n",
        "\n",
        "#path = \"/content/drive/MyDrive/ [INSERT THE FOLDER IN YOUR DRIVE YOU'RE WORKING OUT FROM] /\"\n",
        "#Example:\n",
        "##path = \"/content/drive/MyDrive/DSCI550/Dataset/\""
      ],
      "metadata": {
        "id": "L_01Hh_5tnGu"
      },
      "execution_count": null,
      "outputs": []
    },
    {
      "cell_type": "code",
      "source": [
        "#import packages\n",
        "\n",
        "import numpy as np\n",
        "import pandas as pd\n",
        "import matplotlib.pyplot as plt\n",
        "import seaborn as sns\n",
        "import gensim\n",
        "#!pip install --upgrade gensim ##the version of orginal kept giving me errors\n",
        "from sklearn.preprocessing import StandardScaler\n",
        "from sklearn.metrics import silhouette_score\n",
        "from sklearn.cluster import KMeans\n",
        "from sklearn.model_selection import train_test_split\n",
        "from sklearn.feature_extraction.text import TfidfVectorizer\n",
        "from sklearn.decomposition import PCA\n",
        "from sklearn.preprocessing import normalize\n",
        "from sklearn.metrics import pairwise_distances\n",
        "from matplotlib import pyplot\n",
        "\n",
        "import nltk\n",
        "import string\n",
        "\n",
        "import matplotlib.pyplot as plt\n",
        "%matplotlib inline\n"
      ],
      "metadata": {
        "id": "S24XBChKu3Qe"
      },
      "execution_count": null,
      "outputs": []
    },
    {
      "cell_type": "code",
      "source": [
        "#Loading OG Dataset\n",
        "with open(path + \"2023-03-27-wapo-db.csv\", encoding=\"latin1\", errors='ignore') as f:\n",
        "  OG_wapo_data = pd.read_csv(f)"
      ],
      "metadata": {
        "id": "CcxR5xPJxIdu"
      },
      "execution_count": null,
      "outputs": []
    },
    {
      "cell_type": "code",
      "source": [
        "#Save df as new variable\n",
        "wapo_data = OG_wapo_data\n",
        "#View Data\n",
        "wapo_data.head()"
      ],
      "metadata": {
        "id": "z8Rj2XLMxJMX",
        "colab": {
          "base_uri": "https://localhost:8080/",
          "height": 250
        },
        "outputId": "e1158106-08ef-4d66-b027-c48279ca8f51"
      },
      "execution_count": null,
      "outputs": [
        {
          "output_type": "execute_result",
          "data": {
            "text/plain": [
              "         date                name   age gender    armed      race     city  \\\n",
              "0  2015-01-02    Lewis Lee Lembke  47.0   male      gun     White    Aloha   \n",
              "1  2015-01-02          Tim Elliot  53.0   male      gun     Asian  Shelton   \n",
              "2  2015-01-03  John Paul Quintero  23.0   male  unarmed  Hispanic  Wichita   \n",
              "3  2015-01-04   Kenneth Joe Brown  18.0   male      gun     White  Guthrie   \n",
              "4  2015-01-04   Michael Rodriguez  39.0   male    other  Hispanic    Evans   \n",
              "\n",
              "  state flee  body_camera  signs_of_mental_illness  \\\n",
              "0    OR  not        False                    False   \n",
              "1    WA  not        False                     True   \n",
              "2    KS  not        False                    False   \n",
              "3    OK  not        False                    False   \n",
              "4    CO  not        False                    False   \n",
              "\n",
              "              police_departments_involved  \n",
              "0  Washington County Sheriff's Office, OR  \n",
              "1       Mason County Sheriff's Office, WA  \n",
              "2           Wichita Police Department, KS  \n",
              "3             Oklahoma Highway Patrol, OK  \n",
              "4             Evans Police Department, CO  "
            ],
            "text/html": [
              "\n",
              "  <div id=\"df-b2cd7596-1038-47fb-aec5-37ef4c51b452\">\n",
              "    <div class=\"colab-df-container\">\n",
              "      <div>\n",
              "<style scoped>\n",
              "    .dataframe tbody tr th:only-of-type {\n",
              "        vertical-align: middle;\n",
              "    }\n",
              "\n",
              "    .dataframe tbody tr th {\n",
              "        vertical-align: top;\n",
              "    }\n",
              "\n",
              "    .dataframe thead th {\n",
              "        text-align: right;\n",
              "    }\n",
              "</style>\n",
              "<table border=\"1\" class=\"dataframe\">\n",
              "  <thead>\n",
              "    <tr style=\"text-align: right;\">\n",
              "      <th></th>\n",
              "      <th>date</th>\n",
              "      <th>name</th>\n",
              "      <th>age</th>\n",
              "      <th>gender</th>\n",
              "      <th>armed</th>\n",
              "      <th>race</th>\n",
              "      <th>city</th>\n",
              "      <th>state</th>\n",
              "      <th>flee</th>\n",
              "      <th>body_camera</th>\n",
              "      <th>signs_of_mental_illness</th>\n",
              "      <th>police_departments_involved</th>\n",
              "    </tr>\n",
              "  </thead>\n",
              "  <tbody>\n",
              "    <tr>\n",
              "      <th>0</th>\n",
              "      <td>2015-01-02</td>\n",
              "      <td>Lewis Lee Lembke</td>\n",
              "      <td>47.0</td>\n",
              "      <td>male</td>\n",
              "      <td>gun</td>\n",
              "      <td>White</td>\n",
              "      <td>Aloha</td>\n",
              "      <td>OR</td>\n",
              "      <td>not</td>\n",
              "      <td>False</td>\n",
              "      <td>False</td>\n",
              "      <td>Washington County Sheriff's Office, OR</td>\n",
              "    </tr>\n",
              "    <tr>\n",
              "      <th>1</th>\n",
              "      <td>2015-01-02</td>\n",
              "      <td>Tim Elliot</td>\n",
              "      <td>53.0</td>\n",
              "      <td>male</td>\n",
              "      <td>gun</td>\n",
              "      <td>Asian</td>\n",
              "      <td>Shelton</td>\n",
              "      <td>WA</td>\n",
              "      <td>not</td>\n",
              "      <td>False</td>\n",
              "      <td>True</td>\n",
              "      <td>Mason County Sheriff's Office, WA</td>\n",
              "    </tr>\n",
              "    <tr>\n",
              "      <th>2</th>\n",
              "      <td>2015-01-03</td>\n",
              "      <td>John Paul Quintero</td>\n",
              "      <td>23.0</td>\n",
              "      <td>male</td>\n",
              "      <td>unarmed</td>\n",
              "      <td>Hispanic</td>\n",
              "      <td>Wichita</td>\n",
              "      <td>KS</td>\n",
              "      <td>not</td>\n",
              "      <td>False</td>\n",
              "      <td>False</td>\n",
              "      <td>Wichita Police Department, KS</td>\n",
              "    </tr>\n",
              "    <tr>\n",
              "      <th>3</th>\n",
              "      <td>2015-01-04</td>\n",
              "      <td>Kenneth Joe Brown</td>\n",
              "      <td>18.0</td>\n",
              "      <td>male</td>\n",
              "      <td>gun</td>\n",
              "      <td>White</td>\n",
              "      <td>Guthrie</td>\n",
              "      <td>OK</td>\n",
              "      <td>not</td>\n",
              "      <td>False</td>\n",
              "      <td>False</td>\n",
              "      <td>Oklahoma Highway Patrol, OK</td>\n",
              "    </tr>\n",
              "    <tr>\n",
              "      <th>4</th>\n",
              "      <td>2015-01-04</td>\n",
              "      <td>Michael Rodriguez</td>\n",
              "      <td>39.0</td>\n",
              "      <td>male</td>\n",
              "      <td>other</td>\n",
              "      <td>Hispanic</td>\n",
              "      <td>Evans</td>\n",
              "      <td>CO</td>\n",
              "      <td>not</td>\n",
              "      <td>False</td>\n",
              "      <td>False</td>\n",
              "      <td>Evans Police Department, CO</td>\n",
              "    </tr>\n",
              "  </tbody>\n",
              "</table>\n",
              "</div>\n",
              "      <button class=\"colab-df-convert\" onclick=\"convertToInteractive('df-b2cd7596-1038-47fb-aec5-37ef4c51b452')\"\n",
              "              title=\"Convert this dataframe to an interactive table.\"\n",
              "              style=\"display:none;\">\n",
              "        \n",
              "  <svg xmlns=\"http://www.w3.org/2000/svg\" height=\"24px\"viewBox=\"0 0 24 24\"\n",
              "       width=\"24px\">\n",
              "    <path d=\"M0 0h24v24H0V0z\" fill=\"none\"/>\n",
              "    <path d=\"M18.56 5.44l.94 2.06.94-2.06 2.06-.94-2.06-.94-.94-2.06-.94 2.06-2.06.94zm-11 1L8.5 8.5l.94-2.06 2.06-.94-2.06-.94L8.5 2.5l-.94 2.06-2.06.94zm10 10l.94 2.06.94-2.06 2.06-.94-2.06-.94-.94-2.06-.94 2.06-2.06.94z\"/><path d=\"M17.41 7.96l-1.37-1.37c-.4-.4-.92-.59-1.43-.59-.52 0-1.04.2-1.43.59L10.3 9.45l-7.72 7.72c-.78.78-.78 2.05 0 2.83L4 21.41c.39.39.9.59 1.41.59.51 0 1.02-.2 1.41-.59l7.78-7.78 2.81-2.81c.8-.78.8-2.07 0-2.86zM5.41 20L4 18.59l7.72-7.72 1.47 1.35L5.41 20z\"/>\n",
              "  </svg>\n",
              "      </button>\n",
              "      \n",
              "  <style>\n",
              "    .colab-df-container {\n",
              "      display:flex;\n",
              "      flex-wrap:wrap;\n",
              "      gap: 12px;\n",
              "    }\n",
              "\n",
              "    .colab-df-convert {\n",
              "      background-color: #E8F0FE;\n",
              "      border: none;\n",
              "      border-radius: 50%;\n",
              "      cursor: pointer;\n",
              "      display: none;\n",
              "      fill: #1967D2;\n",
              "      height: 32px;\n",
              "      padding: 0 0 0 0;\n",
              "      width: 32px;\n",
              "    }\n",
              "\n",
              "    .colab-df-convert:hover {\n",
              "      background-color: #E2EBFA;\n",
              "      box-shadow: 0px 1px 2px rgba(60, 64, 67, 0.3), 0px 1px 3px 1px rgba(60, 64, 67, 0.15);\n",
              "      fill: #174EA6;\n",
              "    }\n",
              "\n",
              "    [theme=dark] .colab-df-convert {\n",
              "      background-color: #3B4455;\n",
              "      fill: #D2E3FC;\n",
              "    }\n",
              "\n",
              "    [theme=dark] .colab-df-convert:hover {\n",
              "      background-color: #434B5C;\n",
              "      box-shadow: 0px 1px 3px 1px rgba(0, 0, 0, 0.15);\n",
              "      filter: drop-shadow(0px 1px 2px rgba(0, 0, 0, 0.3));\n",
              "      fill: #FFFFFF;\n",
              "    }\n",
              "  </style>\n",
              "\n",
              "      <script>\n",
              "        const buttonEl =\n",
              "          document.querySelector('#df-b2cd7596-1038-47fb-aec5-37ef4c51b452 button.colab-df-convert');\n",
              "        buttonEl.style.display =\n",
              "          google.colab.kernel.accessAllowed ? 'block' : 'none';\n",
              "\n",
              "        async function convertToInteractive(key) {\n",
              "          const element = document.querySelector('#df-b2cd7596-1038-47fb-aec5-37ef4c51b452');\n",
              "          const dataTable =\n",
              "            await google.colab.kernel.invokeFunction('convertToInteractive',\n",
              "                                                     [key], {});\n",
              "          if (!dataTable) return;\n",
              "\n",
              "          const docLinkHtml = 'Like what you see? Visit the ' +\n",
              "            '<a target=\"_blank\" href=https://colab.research.google.com/notebooks/data_table.ipynb>data table notebook</a>'\n",
              "            + ' to learn more about interactive tables.';\n",
              "          element.innerHTML = '';\n",
              "          dataTable['output_type'] = 'display_data';\n",
              "          await google.colab.output.renderOutput(dataTable, element);\n",
              "          const docLink = document.createElement('div');\n",
              "          docLink.innerHTML = docLinkHtml;\n",
              "          element.appendChild(docLink);\n",
              "        }\n",
              "      </script>\n",
              "    </div>\n",
              "  </div>\n",
              "  "
            ]
          },
          "metadata": {},
          "execution_count": 5
        }
      ]
    },
    {
      "cell_type": "code",
      "source": [
        "#Counting NAs\n",
        "nans = wapo_data.isna().sum()\n",
        "print (\"detailed nans per column:\\n\", nans)\n",
        "totalcount_nans = wapo_data.isna().sum().sum()\n",
        "print (\"total nans:\", totalcount_nans)"
      ],
      "metadata": {
        "colab": {
          "base_uri": "https://localhost:8080/"
        },
        "id": "3PtzlCfe4D1a",
        "outputId": "1ec0c1a9-08e3-4af5-8821-b5c5669194eb"
      },
      "execution_count": null,
      "outputs": [
        {
          "output_type": "stream",
          "name": "stdout",
          "text": [
            "detailed nans per column:\n",
            " date                              0\n",
            "name                            499\n",
            "age                             539\n",
            "gender                           35\n",
            "armed                           210\n",
            "race                              0\n",
            "city                             14\n",
            "state                             0\n",
            "flee                           1051\n",
            "body_camera                       0\n",
            "signs_of_mental_illness           0\n",
            "police_departments_involved       0\n",
            "dtype: int64\n",
            "total nans: 2348\n"
          ]
        }
      ]
    },
    {
      "cell_type": "code",
      "source": [
        "#Checking the datatypes of each column\n",
        "print (wapo_data.dtypes)"
      ],
      "metadata": {
        "colab": {
          "base_uri": "https://localhost:8080/"
        },
        "id": "Bb4Sw_NPc-7D",
        "outputId": "4f5bebda-bb9b-4a71-8813-bf8186fd50d1"
      },
      "execution_count": null,
      "outputs": [
        {
          "output_type": "stream",
          "name": "stdout",
          "text": [
            "date                            object\n",
            "name                            object\n",
            "age                            float64\n",
            "gender                          object\n",
            "armed                           object\n",
            "race                            object\n",
            "city                            object\n",
            "state                           object\n",
            "flee                            object\n",
            "body_camera                       bool\n",
            "signs_of_mental_illness           bool\n",
            "police_departments_involved     object\n",
            "dtype: object\n"
          ]
        }
      ]
    },
    {
      "cell_type": "code",
      "source": [
        "#Getting count of how many deaths per year\n",
        "#First create new time columns \"year\" + \"month_year\"\n",
        "\n",
        "# convert the 'date' column to datetime format\n",
        "wapo_data['date'] = pd.to_datetime(wapo_data['date'])\n",
        "\n",
        "# create a new 'year' column that extracts the year from the 'date' column\n",
        "wapo_data['year'] = wapo_data['date'].dt.year\n",
        "\n",
        "# create a new 'month_year' column that extracts the month and year from the 'date' column\n",
        "wapo_data['month_year'] = wapo_data['date'].dt.strftime('%m-%Y')\n",
        "\n",
        "#reorganize columns so that \"year\" + \"month_year\" column are not at the end of df\n",
        "wapo_data = wapo_data[['date','year', 'month_year', 'name', 'age', 'gender', 'armed', 'race', 'city', 'state', 'flee', 'body_camera', 'signs_of_mental_illness', 'police_departments_involved']]\n"
      ],
      "metadata": {
        "id": "qg0nLVQ0ADXj"
      },
      "execution_count": null,
      "outputs": []
    },
    {
      "cell_type": "code",
      "source": [
        "#view new df\n",
        "wapo_data.head()"
      ],
      "metadata": {
        "colab": {
          "base_uri": "https://localhost:8080/",
          "height": 374
        },
        "id": "IaroZ3dhfZ_K",
        "outputId": "a724191b-a63f-4ecd-ee1f-4079d607194d"
      },
      "execution_count": null,
      "outputs": [
        {
          "output_type": "execute_result",
          "data": {
            "text/plain": [
              "        date  year month_year                name   age gender    armed  \\\n",
              "0 2015-01-02  2015    01-2015    Lewis Lee Lembke  47.0   male      gun   \n",
              "1 2015-01-02  2015    01-2015          Tim Elliot  53.0   male      gun   \n",
              "2 2015-01-03  2015    01-2015  John Paul Quintero  23.0   male  unarmed   \n",
              "3 2015-01-04  2015    01-2015   Kenneth Joe Brown  18.0   male      gun   \n",
              "4 2015-01-04  2015    01-2015   Michael Rodriguez  39.0   male    other   \n",
              "\n",
              "       race     city state flee  body_camera  signs_of_mental_illness  \\\n",
              "0     White    Aloha    OR  not        False                    False   \n",
              "1     Asian  Shelton    WA  not        False                     True   \n",
              "2  Hispanic  Wichita    KS  not        False                    False   \n",
              "3     White  Guthrie    OK  not        False                    False   \n",
              "4  Hispanic    Evans    CO  not        False                    False   \n",
              "\n",
              "              police_departments_involved  \n",
              "0  Washington County Sheriff's Office, OR  \n",
              "1       Mason County Sheriff's Office, WA  \n",
              "2           Wichita Police Department, KS  \n",
              "3             Oklahoma Highway Patrol, OK  \n",
              "4             Evans Police Department, CO  "
            ],
            "text/html": [
              "\n",
              "  <div id=\"df-6af48aaa-a3c9-4871-93de-b16d373d1f3e\">\n",
              "    <div class=\"colab-df-container\">\n",
              "      <div>\n",
              "<style scoped>\n",
              "    .dataframe tbody tr th:only-of-type {\n",
              "        vertical-align: middle;\n",
              "    }\n",
              "\n",
              "    .dataframe tbody tr th {\n",
              "        vertical-align: top;\n",
              "    }\n",
              "\n",
              "    .dataframe thead th {\n",
              "        text-align: right;\n",
              "    }\n",
              "</style>\n",
              "<table border=\"1\" class=\"dataframe\">\n",
              "  <thead>\n",
              "    <tr style=\"text-align: right;\">\n",
              "      <th></th>\n",
              "      <th>date</th>\n",
              "      <th>year</th>\n",
              "      <th>month_year</th>\n",
              "      <th>name</th>\n",
              "      <th>age</th>\n",
              "      <th>gender</th>\n",
              "      <th>armed</th>\n",
              "      <th>race</th>\n",
              "      <th>city</th>\n",
              "      <th>state</th>\n",
              "      <th>flee</th>\n",
              "      <th>body_camera</th>\n",
              "      <th>signs_of_mental_illness</th>\n",
              "      <th>police_departments_involved</th>\n",
              "    </tr>\n",
              "  </thead>\n",
              "  <tbody>\n",
              "    <tr>\n",
              "      <th>0</th>\n",
              "      <td>2015-01-02</td>\n",
              "      <td>2015</td>\n",
              "      <td>01-2015</td>\n",
              "      <td>Lewis Lee Lembke</td>\n",
              "      <td>47.0</td>\n",
              "      <td>male</td>\n",
              "      <td>gun</td>\n",
              "      <td>White</td>\n",
              "      <td>Aloha</td>\n",
              "      <td>OR</td>\n",
              "      <td>not</td>\n",
              "      <td>False</td>\n",
              "      <td>False</td>\n",
              "      <td>Washington County Sheriff's Office, OR</td>\n",
              "    </tr>\n",
              "    <tr>\n",
              "      <th>1</th>\n",
              "      <td>2015-01-02</td>\n",
              "      <td>2015</td>\n",
              "      <td>01-2015</td>\n",
              "      <td>Tim Elliot</td>\n",
              "      <td>53.0</td>\n",
              "      <td>male</td>\n",
              "      <td>gun</td>\n",
              "      <td>Asian</td>\n",
              "      <td>Shelton</td>\n",
              "      <td>WA</td>\n",
              "      <td>not</td>\n",
              "      <td>False</td>\n",
              "      <td>True</td>\n",
              "      <td>Mason County Sheriff's Office, WA</td>\n",
              "    </tr>\n",
              "    <tr>\n",
              "      <th>2</th>\n",
              "      <td>2015-01-03</td>\n",
              "      <td>2015</td>\n",
              "      <td>01-2015</td>\n",
              "      <td>John Paul Quintero</td>\n",
              "      <td>23.0</td>\n",
              "      <td>male</td>\n",
              "      <td>unarmed</td>\n",
              "      <td>Hispanic</td>\n",
              "      <td>Wichita</td>\n",
              "      <td>KS</td>\n",
              "      <td>not</td>\n",
              "      <td>False</td>\n",
              "      <td>False</td>\n",
              "      <td>Wichita Police Department, KS</td>\n",
              "    </tr>\n",
              "    <tr>\n",
              "      <th>3</th>\n",
              "      <td>2015-01-04</td>\n",
              "      <td>2015</td>\n",
              "      <td>01-2015</td>\n",
              "      <td>Kenneth Joe Brown</td>\n",
              "      <td>18.0</td>\n",
              "      <td>male</td>\n",
              "      <td>gun</td>\n",
              "      <td>White</td>\n",
              "      <td>Guthrie</td>\n",
              "      <td>OK</td>\n",
              "      <td>not</td>\n",
              "      <td>False</td>\n",
              "      <td>False</td>\n",
              "      <td>Oklahoma Highway Patrol, OK</td>\n",
              "    </tr>\n",
              "    <tr>\n",
              "      <th>4</th>\n",
              "      <td>2015-01-04</td>\n",
              "      <td>2015</td>\n",
              "      <td>01-2015</td>\n",
              "      <td>Michael Rodriguez</td>\n",
              "      <td>39.0</td>\n",
              "      <td>male</td>\n",
              "      <td>other</td>\n",
              "      <td>Hispanic</td>\n",
              "      <td>Evans</td>\n",
              "      <td>CO</td>\n",
              "      <td>not</td>\n",
              "      <td>False</td>\n",
              "      <td>False</td>\n",
              "      <td>Evans Police Department, CO</td>\n",
              "    </tr>\n",
              "  </tbody>\n",
              "</table>\n",
              "</div>\n",
              "      <button class=\"colab-df-convert\" onclick=\"convertToInteractive('df-6af48aaa-a3c9-4871-93de-b16d373d1f3e')\"\n",
              "              title=\"Convert this dataframe to an interactive table.\"\n",
              "              style=\"display:none;\">\n",
              "        \n",
              "  <svg xmlns=\"http://www.w3.org/2000/svg\" height=\"24px\"viewBox=\"0 0 24 24\"\n",
              "       width=\"24px\">\n",
              "    <path d=\"M0 0h24v24H0V0z\" fill=\"none\"/>\n",
              "    <path d=\"M18.56 5.44l.94 2.06.94-2.06 2.06-.94-2.06-.94-.94-2.06-.94 2.06-2.06.94zm-11 1L8.5 8.5l.94-2.06 2.06-.94-2.06-.94L8.5 2.5l-.94 2.06-2.06.94zm10 10l.94 2.06.94-2.06 2.06-.94-2.06-.94-.94-2.06-.94 2.06-2.06.94z\"/><path d=\"M17.41 7.96l-1.37-1.37c-.4-.4-.92-.59-1.43-.59-.52 0-1.04.2-1.43.59L10.3 9.45l-7.72 7.72c-.78.78-.78 2.05 0 2.83L4 21.41c.39.39.9.59 1.41.59.51 0 1.02-.2 1.41-.59l7.78-7.78 2.81-2.81c.8-.78.8-2.07 0-2.86zM5.41 20L4 18.59l7.72-7.72 1.47 1.35L5.41 20z\"/>\n",
              "  </svg>\n",
              "      </button>\n",
              "      \n",
              "  <style>\n",
              "    .colab-df-container {\n",
              "      display:flex;\n",
              "      flex-wrap:wrap;\n",
              "      gap: 12px;\n",
              "    }\n",
              "\n",
              "    .colab-df-convert {\n",
              "      background-color: #E8F0FE;\n",
              "      border: none;\n",
              "      border-radius: 50%;\n",
              "      cursor: pointer;\n",
              "      display: none;\n",
              "      fill: #1967D2;\n",
              "      height: 32px;\n",
              "      padding: 0 0 0 0;\n",
              "      width: 32px;\n",
              "    }\n",
              "\n",
              "    .colab-df-convert:hover {\n",
              "      background-color: #E2EBFA;\n",
              "      box-shadow: 0px 1px 2px rgba(60, 64, 67, 0.3), 0px 1px 3px 1px rgba(60, 64, 67, 0.15);\n",
              "      fill: #174EA6;\n",
              "    }\n",
              "\n",
              "    [theme=dark] .colab-df-convert {\n",
              "      background-color: #3B4455;\n",
              "      fill: #D2E3FC;\n",
              "    }\n",
              "\n",
              "    [theme=dark] .colab-df-convert:hover {\n",
              "      background-color: #434B5C;\n",
              "      box-shadow: 0px 1px 3px 1px rgba(0, 0, 0, 0.15);\n",
              "      filter: drop-shadow(0px 1px 2px rgba(0, 0, 0, 0.3));\n",
              "      fill: #FFFFFF;\n",
              "    }\n",
              "  </style>\n",
              "\n",
              "      <script>\n",
              "        const buttonEl =\n",
              "          document.querySelector('#df-6af48aaa-a3c9-4871-93de-b16d373d1f3e button.colab-df-convert');\n",
              "        buttonEl.style.display =\n",
              "          google.colab.kernel.accessAllowed ? 'block' : 'none';\n",
              "\n",
              "        async function convertToInteractive(key) {\n",
              "          const element = document.querySelector('#df-6af48aaa-a3c9-4871-93de-b16d373d1f3e');\n",
              "          const dataTable =\n",
              "            await google.colab.kernel.invokeFunction('convertToInteractive',\n",
              "                                                     [key], {});\n",
              "          if (!dataTable) return;\n",
              "\n",
              "          const docLinkHtml = 'Like what you see? Visit the ' +\n",
              "            '<a target=\"_blank\" href=https://colab.research.google.com/notebooks/data_table.ipynb>data table notebook</a>'\n",
              "            + ' to learn more about interactive tables.';\n",
              "          element.innerHTML = '';\n",
              "          dataTable['output_type'] = 'display_data';\n",
              "          await google.colab.output.renderOutput(dataTable, element);\n",
              "          const docLink = document.createElement('div');\n",
              "          docLink.innerHTML = docLinkHtml;\n",
              "          element.appendChild(docLink);\n",
              "        }\n",
              "      </script>\n",
              "    </div>\n",
              "  </div>\n",
              "  "
            ]
          },
          "metadata": {},
          "execution_count": 9
        }
      ]
    },
    {
      "cell_type": "code",
      "source": [
        "#Checking the datatypes of each column\n",
        "print (wapo_data.dtypes)"
      ],
      "metadata": {
        "colab": {
          "base_uri": "https://localhost:8080/"
        },
        "id": "5cMU9WexhkHA",
        "outputId": "721283c2-916e-41cd-fb7c-ceaedd4aae5c"
      },
      "execution_count": null,
      "outputs": [
        {
          "output_type": "stream",
          "name": "stdout",
          "text": [
            "date                           datetime64[ns]\n",
            "year                                    int64\n",
            "month_year                             object\n",
            "name                                   object\n",
            "age                                   float64\n",
            "gender                                 object\n",
            "armed                                  object\n",
            "race                                   object\n",
            "city                                   object\n",
            "state                                  object\n",
            "flee                                   object\n",
            "body_camera                              bool\n",
            "signs_of_mental_illness                  bool\n",
            "police_departments_involved            object\n",
            "dtype: object\n"
          ]
        }
      ]
    },
    {
      "cell_type": "code",
      "source": [
        "#Make line graph - based on how many deaths per year\n",
        "\n",
        "#Counting how much many deaths their were per year\n",
        "deaths_per_year_count = wapo_data['year'].value_counts()\n",
        "\n",
        "#view deaths_per_year_count\n",
        "# print (deaths_per_year_count)\n",
        "# print (type(deaths_per_year_count))\n",
        "\n",
        "# move index values to a column\n",
        "deaths_per_year_count = deaths_per_year_count.reset_index(drop=False)\n",
        "# print (type (deaths_per_year_count))\n",
        "# print ( (deaths_per_year_count))\n",
        "\n",
        "#renaming columns of df\n",
        "dpy_df = deaths_per_year_count.rename(columns={'index': 'year', 'year': \"death_count\"})\n",
        "#print (dpy_df)\n",
        "\n",
        "#sorting by descending order\n",
        "dpy_df_sorted = dpy_df.sort_values(by = 'year', ascending = True)\n",
        "print (dpy_df_sorted )\n",
        "\n",
        "#create a line plot of the value counts\n",
        "dpy_df_sorted.plot(x = 'year', y = 'death_count', kind='line', color='blue', marker='o')\n",
        "\n",
        "#add labels and title to the plot\n",
        "plt.xlabel('Year')\n",
        "plt.ylabel('Deaths')\n",
        "plt.title('Deaths per year in Wapo Dataset')\n",
        "\n",
        "#display the plot\n",
        "plt.show()\n"
      ],
      "metadata": {
        "colab": {
          "base_uri": "https://localhost:8080/",
          "height": 474
        },
        "id": "azzcjLE2TTxQ",
        "outputId": "341ec517-a025-4033-eb65-62b81ca36d8b"
      },
      "execution_count": null,
      "outputs": [
        {
          "output_type": "stream",
          "name": "stdout",
          "text": [
            "   year  death_count\n",
            "4  2015          995\n",
            "7  2016          958\n",
            "6  2017          983\n",
            "5  2018          992\n",
            "3  2019          997\n",
            "2  2020         1019\n",
            "1  2021         1048\n",
            "0  2022         1096\n",
            "8  2023          223\n"
          ]
        },
        {
          "output_type": "display_data",
          "data": {
            "text/plain": [
              "<Figure size 432x288 with 1 Axes>"
            ],
            "image/png": "[encoded data removed]"
          },
          "metadata": {
            "needs_background": "light"
          }
        }
      ]
    },
    {
      "cell_type": "code",
      "source": [
        "#Make line graph - based on how many deaths per month_year column values\n",
        "\n",
        "#Counting how much many deaths their were per year\n",
        "deaths_per_monthyear_count = wapo_data['month_year'].value_counts()\n",
        "\n",
        "#view deaths_per_monthyear_count\n",
        "#print (deaths_per_monthyear_count)\n",
        "# # print (type(deaths_per_year_count))\n",
        "\n",
        "#move index values to a column\n",
        "deaths_per_monthyear_count = deaths_per_monthyear_count.reset_index(drop=False)\n",
        "# # print (type (deaths_per_year_count))\n",
        "# #print (deaths_per_monthyear_count)\n",
        "\n",
        "#renaming columns of df\n",
        "dpmy_df = deaths_per_monthyear_count.rename(columns={'index': 'month_year', 'month_year': \"death_count\"})\n",
        "#print (dpmy_df)\n",
        "#print (type(dpmy_df))\n",
        "\n",
        "#sorting by descending order\n",
        "dpmy_df['month_year'] = pd.to_datetime(dpmy_df['month_year'])\n",
        "dpmy_df_sorted = dpmy_df.sort_values(by='month_year')\n",
        "print (dpmy_df_sorted)\n",
        "#print (type(dpmy_df_sorted))\n",
        "\n",
        "# #PENDING - NEED to FIGURE OUT HOW TO DROP THE DAY FROM MONTH_YEAR COLUMN\n",
        "# dpmy_df_sorted ['month_year_new'] = dpmy_df_sorted ['month_year'].dt.strftime('%m-%Y')\n",
        "# print (dmpy_df_sorted)\n",
        "\n",
        "\n",
        "#create a line plot of the value counts\n",
        "dpmy_df_sorted.plot(x = 'month_year', y = 'death_count', kind='line', color='blue', marker='o')\n",
        "\n",
        "#add labels and title to the plot\n",
        "plt.xlabel('Month + Year')\n",
        "plt.ylabel('Deaths')\n",
        "plt.title('Deaths per each of month of each year in Wapo Dataset')\n",
        "\n",
        "#PENDING: adjusting figure size\n",
        "#plt.gca().xaxis.set_major_locator(plt.MaxNLocator(len(dpmy_df_sorted)))\n",
        "\n",
        "#display the plot\n",
        "plt.show()"
      ],
      "metadata": {
        "colab": {
          "base_uri": "https://localhost:8080/",
          "height": 545
        },
        "id": "cymkQvEHv6wg",
        "outputId": "75e4c2ef-9e6b-482f-df7a-550fc9d0d718"
      },
      "execution_count": null,
      "outputs": [
        {
          "output_type": "stream",
          "name": "stdout",
          "text": [
            "   month_year  death_count\n",
            "79 2015-01-01           76\n",
            "74 2015-02-01           77\n",
            "24 2015-03-01           92\n",
            "45 2015-04-01           84\n",
            "88 2015-05-01           72\n",
            "..        ...          ...\n",
            "21 2022-11-01           93\n",
            "19 2022-12-01           93\n",
            "7  2023-01-01          100\n",
            "68 2023-02-01           77\n",
            "98 2023-03-01           46\n",
            "\n",
            "[99 rows x 2 columns]\n"
          ]
        },
        {
          "output_type": "display_data",
          "data": {
            "text/plain": [
              "<Figure size 432x288 with 1 Axes>"
            ],
            "image/png": "[encoded data removed]"
          },
          "metadata": {
            "needs_background": "light"
          }
        }
      ]
    },
    {
      "cell_type": "code",
      "source": [
        "#Getting count of how many deaths were MI (mental illness) related for the whole dataset\n",
        "mi_overall_count = wapo_data['signs_of_mental_illness'].value_counts()\n",
        "print (\"Overall count of how many times mental illness was present:\\n\", mi_overall_count)"
      ],
      "metadata": {
        "colab": {
          "base_uri": "https://localhost:8080/"
        },
        "id": "71dDLCJ9SuFC",
        "outputId": "5bb0170b-e8d3-4404-b510-fb9c4edd9e50"
      },
      "execution_count": null,
      "outputs": [
        {
          "output_type": "stream",
          "name": "stdout",
          "text": [
            "Overall count of how many times mental illness was present:\n",
            " False    6578\n",
            "True     1733\n",
            "Name: signs_of_mental_illness, dtype: int64\n"
          ]
        }
      ]
    },
    {
      "cell_type": "code",
      "source": [
        "#Getting count of how many deaths were MI (mental illness) related per year\n",
        "mi_signs_per_year = wapo_data.groupby(['signs_of_mental_illness', 'year']).size()\n",
        "#print (\"Count of signs of MI_per_year:/n\", mi_signs_per_year)\n",
        "#print (type(mi_signs_per_year))\n",
        "\n",
        "#Movie the boolean count values of MI for each year into a df\n",
        "mi_per_year_count = mi_signs_per_year.reset_index(drop=False)\n",
        "\n",
        "#renaming columns of df\n",
        "mi_df = mi_per_year_count.rename(columns={'index': 'month_year', 'month_year': \"death_count\", 0: \"count\"})\n",
        "print ((mi_df))\n",
        "\n",
        "#Plotting double line graph\n",
        "# pivot the dataframe to get the two columns for each sign of mental illness\n",
        "mi_double_plot = mi_df.pivot(index='year', columns='signs_of_mental_illness', values='count')\n",
        "\n",
        "# plot the double line graph\n",
        "mi_double_plot.plot(kind='line', style=['-', '--'], figsize=(10, 6))\n",
        "plt.xlabel('Year')\n",
        "plt.ylabel('Count of signs of mental illness')\n",
        "plt.title('Count of signs of mental illness per year')\n",
        "plt.legend(['False', 'True'])\n",
        "plt.show()"
      ],
      "metadata": {
        "colab": {
          "base_uri": "https://localhost:8080/",
          "height": 743
        },
        "id": "D8r_DRYE9miw",
        "outputId": "3506700b-0ac6-4e78-b893-199281edd349"
      },
      "execution_count": null,
      "outputs": [
        {
          "output_type": "stream",
          "name": "stdout",
          "text": [
            "    signs_of_mental_illness  year  count\n",
            "0                     False  2015    735\n",
            "1                     False  2016    710\n",
            "2                     False  2017    745\n",
            "3                     False  2018    772\n",
            "4                     False  2019    782\n",
            "5                     False  2020    800\n",
            "6                     False  2021    900\n",
            "7                     False  2022    951\n",
            "8                     False  2023    183\n",
            "9                      True  2015    260\n",
            "10                     True  2016    248\n",
            "11                     True  2017    238\n",
            "12                     True  2018    220\n",
            "13                     True  2019    215\n",
            "14                     True  2020    219\n",
            "15                     True  2021    148\n",
            "16                     True  2022    145\n",
            "17                     True  2023     40\n"
          ]
        },
        {
          "output_type": "display_data",
          "data": {
            "text/plain": [
              "<Figure size 720x432 with 1 Axes>"
            ],
            "image/png": "[encoded data removed]"
          },
          "metadata": {
            "needs_background": "light"
          }
        }
      ]
    },
    {
      "cell_type": "markdown",
      "source": [
        "#Deciding what to do with the NANS/Text for report"
      ],
      "metadata": {
        "id": "XKhQDhl7D63S"
      }
    },
    {
      "cell_type": "code",
      "source": [
        "# Drop data for 2023\n",
        "wapo_data.drop(wapo_data[wapo_data['year'] == 2023].index, inplace=True)\n",
        "#Double count to make sure 2023 data is gone\n",
        "deaths_yearly_2022 = wapo_data['year'].value_counts()\n",
        "print (deaths_yearly_2022)\n"
      ],
      "metadata": {
        "colab": {
          "base_uri": "https://localhost:8080/"
        },
        "id": "GgV49eSjAqps",
        "outputId": "a86dcb09-613c-4085-d854-e283053017ce"
      },
      "execution_count": null,
      "outputs": [
        {
          "output_type": "stream",
          "name": "stdout",
          "text": [
            "2022    1096\n",
            "2021    1048\n",
            "2020    1019\n",
            "2019     997\n",
            "2015     995\n",
            "2018     992\n",
            "2017     983\n",
            "2016     958\n",
            "Name: year, dtype: int64\n"
          ]
        },
        {
          "output_type": "stream",
          "name": "stderr",
          "text": [
            "<ipython-input-15-978a99b7eeea>:2: SettingWithCopyWarning: \n",
            "A value is trying to be set on a copy of a slice from a DataFrame\n",
            "\n",
            "See the caveats in the documentation: https://pandas.pydata.org/pandas-docs/stable/user_guide/indexing.html#returning-a-view-versus-a-copy\n",
            "  wapo_data.drop(wapo_data[wapo_data['year'] == 2023].index, inplace=True)\n"
          ]
        }
      ]
    },
    {
      "cell_type": "code",
      "source": [
        "#For all values under \"name\" column with missing values, replace with \"Unknown\"\n",
        "wapo_data['name'] = wapo_data['name'].fillna('Unknown')\n",
        "#Double check nan count\n",
        "nans_name_check = wapo_data.isna().sum()\n",
        "print (nans_name_check)"
      ],
      "metadata": {
        "colab": {
          "base_uri": "https://localhost:8080/"
        },
        "id": "n1nlbL8AUd_G",
        "outputId": "e4b1939f-27a7-48d8-e405-607385dfa2b6"
      },
      "execution_count": null,
      "outputs": [
        {
          "output_type": "stream",
          "name": "stdout",
          "text": [
            "date                             0\n",
            "year                             0\n",
            "month_year                       0\n",
            "name                             0\n",
            "age                            502\n",
            "gender                          30\n",
            "armed                          210\n",
            "race                             0\n",
            "city                             6\n",
            "state                            0\n",
            "flee                           984\n",
            "body_camera                      0\n",
            "signs_of_mental_illness          0\n",
            "police_departments_involved      0\n",
            "dtype: int64\n"
          ]
        },
        {
          "output_type": "stream",
          "name": "stderr",
          "text": [
            "<ipython-input-16-b4cfeb6d9505>:2: SettingWithCopyWarning: \n",
            "A value is trying to be set on a copy of a slice from a DataFrame.\n",
            "Try using .loc[row_indexer,col_indexer] = value instead\n",
            "\n",
            "See the caveats in the documentation: https://pandas.pydata.org/pandas-docs/stable/user_guide/indexing.html#returning-a-view-versus-a-copy\n",
            "  wapo_data['name'] = wapo_data['name'].fillna('Unknown')\n"
          ]
        }
      ]
    },
    {
      "cell_type": "code",
      "source": [
        "#Viewing the missing gender to decide what to do\n",
        "# create a boolean mask of NaN values in the column\n",
        "mask = wapo_data['gender'].isna()\n",
        "\n",
        "# use the mask to filter the rows\n",
        "rows_with_nans = wapo_data[mask]\n",
        "\n",
        "print (rows_with_nans)"
      ],
      "metadata": {
        "colab": {
          "base_uri": "https://localhost:8080/"
        },
        "id": "hkHAWirnHY7p",
        "outputId": "e0b90ecb-8a97-497c-ee11-699769d436dc"
      },
      "execution_count": null,
      "outputs": [
        {
          "output_type": "stream",
          "name": "stdout",
          "text": [
            "           date  year month_year                          name   age gender  \\\n",
            "2655 2017-09-16  2017    09-2017                 Scout Schultz  21.0    NaN   \n",
            "6877 2021-11-20  2021    11-2021                       Unknown   NaN    NaN   \n",
            "6903 2021-11-30  2021    11-2021                       Unknown   NaN    NaN   \n",
            "7036 2022-01-18  2022    01-2022                       Unknown   NaN    NaN   \n",
            "7282 2022-04-06  2022    04-2022                       Unknown   NaN    NaN   \n",
            "7319 2022-04-18  2022    04-2022      Larry Marquail Mixon III  19.0    NaN   \n",
            "7338 2022-04-26  2022    04-2022                       Unknown   NaN    NaN   \n",
            "7342 2022-04-27  2022    04-2022                       Unknown   NaN    NaN   \n",
            "7352 2022-05-01  2022    05-2022                       Unknown   NaN    NaN   \n",
            "7457 2022-06-03  2022    06-2022               Kevin Colindres  32.0    NaN   \n",
            "7461 2022-06-04  2022    06-2022  Joseph Robert Henry Thompson  66.0    NaN   \n",
            "7469 2022-06-08  2022    06-2022                       Unknown   NaN    NaN   \n",
            "7493 2022-06-18  2022    06-2022                       Unknown   NaN    NaN   \n",
            "7658 2022-08-09  2022    08-2022                       Unknown   NaN    NaN   \n",
            "7681 2022-08-21  2022    08-2022                       Unknown  17.0    NaN   \n",
            "7708 2022-08-28  2022    08-2022                       Unknown   NaN    NaN   \n",
            "7770 2022-09-17  2022    09-2022                       Unknown   NaN    NaN   \n",
            "7804 2022-09-26  2022    09-2022                       Unknown   NaN    NaN   \n",
            "7845 2022-10-10  2022    10-2022                       Unknown   NaN    NaN   \n",
            "7846 2022-10-11  2022    10-2022                       Unknown   NaN    NaN   \n",
            "7848 2022-10-12  2022    10-2022              Jeffery J. Smith  52.0    NaN   \n",
            "7915 2022-11-04  2022    11-2022          Timothy Wayne Hodges  32.0    NaN   \n",
            "7927 2022-11-08  2022    11-2022                  Ethan Huiras  20.0    NaN   \n",
            "7953 2022-11-16  2022    11-2022                       Unknown   NaN    NaN   \n",
            "7963 2022-11-19  2022    11-2022                       Unknown   NaN    NaN   \n",
            "8008 2022-12-05  2022    12-2022                       Unknown   NaN    NaN   \n",
            "8045 2022-12-17  2022    12-2022                       Unknown   NaN    NaN   \n",
            "8065 2022-12-24  2022    12-2022                       Unknown   NaN    NaN   \n",
            "8080 2022-12-29  2022    12-2022                       Unknown   NaN    NaN   \n",
            "8086 2022-12-31  2022    12-2022                       Unknown   NaN    NaN   \n",
            "\n",
            "             armed     race           city state  flee  body_camera  \\\n",
            "2655         knife    White        Atlanta    GA   not        False   \n",
            "6877   gun,vehicle  Unknown        Oakland    CA   NaN        False   \n",
            "6903           gun  Unknown         Laurel    MS   not        False   \n",
            "7036           gun  Unknown          Hemet    CA  foot        False   \n",
            "7282           gun  Unknown    Albuquerque    NM  foot        False   \n",
            "7319           gun    Black         Conroe    TX   NaN        False   \n",
            "7338       unknown  Unknown          Evans    CO   NaN        False   \n",
            "7342  undetermined  Unknown    Orange Park    FL   NaN        False   \n",
            "7352       unknown  Unknown        Midland    TX   NaN        False   \n",
            "7457           gun  Unknown  West New York    NJ   NaN        False   \n",
            "7461           gun    Black         Towson    MD   NaN         True   \n",
            "7469         knife  Unknown         Oconto    WI   NaN        False   \n",
            "7493  undetermined  Unknown        Sanders    AZ   NaN        False   \n",
            "7658           gun  Unknown    Sioux Falls    SD   NaN        False   \n",
            "7681       vehicle  Unknown     Greensboro    NC   car        False   \n",
            "7708           gun  Unknown         Tacoma    WA   not        False   \n",
            "7770  undetermined  Unknown      Toppenish    WA   NaN        False   \n",
            "7804  undetermined  Unknown        Rembert    SC   NaN        False   \n",
            "7845           gun  Unknown       McIntosh    OK   car        False   \n",
            "7846  undetermined  Unknown    Cherry Hill    NJ   NaN        False   \n",
            "7848           gun  Unknown        Spokane    WA   NaN        False   \n",
            "7915           gun    White      Winnsboro    TX  foot        False   \n",
            "7927           gun    White      Lafayette    CO  foot        False   \n",
            "7953         knife  Unknown    Albuquerque    NM   car        False   \n",
            "7963           gun  Unknown        Shawano    WI   not        False   \n",
            "8008  blunt_object  Unknown         Seeley    CA   NaN        False   \n",
            "8045           gun  Unknown            NaN    WV   NaN        False   \n",
            "8065  undetermined  Unknown      El Centro    CA   NaN        False   \n",
            "8080       vehicle  Unknown     Post Falls    ID   car        False   \n",
            "8086           gun  Unknown          Tulsa    OK   car        False   \n",
            "\n",
            "      signs_of_mental_illness  \\\n",
            "2655                     True   \n",
            "6877                    False   \n",
            "6903                    False   \n",
            "7036                    False   \n",
            "7282                    False   \n",
            "7319                    False   \n",
            "7338                    False   \n",
            "7342                    False   \n",
            "7352                    False   \n",
            "7457                    False   \n",
            "7461                    False   \n",
            "7469                    False   \n",
            "7493                    False   \n",
            "7658                    False   \n",
            "7681                    False   \n",
            "7708                    False   \n",
            "7770                    False   \n",
            "7804                    False   \n",
            "7845                    False   \n",
            "7846                    False   \n",
            "7848                    False   \n",
            "7915                    False   \n",
            "7927                    False   \n",
            "7953                    False   \n",
            "7963                    False   \n",
            "8008                    False   \n",
            "8045                    False   \n",
            "8065                    False   \n",
            "8080                    False   \n",
            "8086                    False   \n",
            "\n",
            "                            police_departments_involved  \n",
            "2655          Georgia Tech Campus Police Department, GA  \n",
            "6877                      Oakland Police Department, CA  \n",
            "6903                       Laurel Police Department, MS  \n",
            "7036  Hemet Police Department, CA;Riverside County S...  \n",
            "7282                  Albuquerque Police Department, NM  \n",
            "7319                       Conroe Police Department, TX  \n",
            "7338                        Evans Police Department, CO  \n",
            "7342                   Clay County Sheriff's Office, FL  \n",
            "7352                      Midland Police Department, TX  \n",
            "7457                West New York Police Department, NJ  \n",
            "7461             Baltimore County Police Department, MD  \n",
            "7469                 Oconto County Sheriff's Office, WI  \n",
            "7493            Arizona Department of Public Safety, AZ  \n",
            "7658  Minnehaha County Sheriff's Office, SD;Sioux Fa...  \n",
            "7681                   Greensboro Police Department, NC  \n",
            "7708                       Tacoma Police Department, WA  \n",
            "7770                Yakama Nation Police Department, WA  \n",
            "7804                 Sumter County Sheriff's Office, SC  \n",
            "7845  Checotah Police Department, OK;McIntosh County...  \n",
            "7846         Cherry Hill Township Police Department, NJ  \n",
            "7848            Spokane County Sheriff's Department, WA  \n",
            "7915                   Wood County Sheriff's Office, TX  \n",
            "7927                    Lafayette Police Department, CO  \n",
            "7953                        New Mexico State Police, NM  \n",
            "7963                      Shawano Police Department, WI  \n",
            "8008           Imperial County Sheriff's Department, CA  \n",
            "8045               McDowell County Sheriff's Office, WV  \n",
            "8065                    El Centro Police Department, CA  \n",
            "8080                   Post Falls Police Department, ID  \n",
            "8086  Muscogee Creek Nation Tribal Police, OK;Tulsa ...  \n"
          ]
        }
      ]
    },
    {
      "cell_type": "code",
      "source": [
        "#Exploring Gender types\n",
        "gender_count = wapo_data['gender'].value_counts()\n",
        "print (gender_count)"
      ],
      "metadata": {
        "colab": {
          "base_uri": "https://localhost:8080/"
        },
        "id": "475JjcgBNrpK",
        "outputId": "48aa7bf2-3055-4950-c823-36f502487c96"
      },
      "execution_count": null,
      "outputs": [
        {
          "output_type": "stream",
          "name": "stdout",
          "text": [
            "male      7698\n",
            "female     360\n",
            "Name: gender, dtype: int64\n"
          ]
        }
      ]
    },
    {
      "cell_type": "code",
      "source": [
        "#Gender nans: dropping if gender = nan\n",
        "#wapo_data = wapo_data.dropna(subset=['gender'])\n",
        "wapo_data['gender'] = wapo_data['gender'].fillna('not_reported')\n",
        "#Double check nan count\n",
        "nans_gen_check = wapo_data.isna().sum()\n",
        "print (nans_gen_check)"
      ],
      "metadata": {
        "colab": {
          "base_uri": "https://localhost:8080/"
        },
        "id": "uqj7veNxGTpz",
        "outputId": "2128f2bc-d3c6-456f-9059-6f9abdfd7d2c"
      },
      "execution_count": null,
      "outputs": [
        {
          "output_type": "stream",
          "name": "stderr",
          "text": [
            "<ipython-input-19-3f9a34b93e7e>:3: SettingWithCopyWarning: \n",
            "A value is trying to be set on a copy of a slice from a DataFrame.\n",
            "Try using .loc[row_indexer,col_indexer] = value instead\n",
            "\n",
            "See the caveats in the documentation: https://pandas.pydata.org/pandas-docs/stable/user_guide/indexing.html#returning-a-view-versus-a-copy\n",
            "  wapo_data['gender'] = wapo_data['gender'].fillna('not_reported')\n"
          ]
        },
        {
          "output_type": "stream",
          "name": "stdout",
          "text": [
            "date                             0\n",
            "year                             0\n",
            "month_year                       0\n",
            "name                             0\n",
            "age                            502\n",
            "gender                           0\n",
            "armed                          210\n",
            "race                             0\n",
            "city                             6\n",
            "state                            0\n",
            "flee                           984\n",
            "body_camera                      0\n",
            "signs_of_mental_illness          0\n",
            "police_departments_involved      0\n",
            "dtype: int64\n"
          ]
        }
      ]
    },
    {
      "cell_type": "code",
      "source": [
        "#Exploring types of responses for armed\n",
        "armed_count = wapo_data['armed'].value_counts()\n",
        "print (armed_count)"
      ],
      "metadata": {
        "colab": {
          "base_uri": "https://localhost:8080/"
        },
        "id": "u43clekCJwak",
        "outputId": "0d19d4f8-d7fa-407f-82b9-fe1d49682d51"
      },
      "execution_count": null,
      "outputs": [
        {
          "output_type": "stream",
          "name": "stdout",
          "text": [
            "gun                          4665\n",
            "knife                        1374\n",
            "unarmed                       480\n",
            "vehicle                       288\n",
            "undetermined                  284\n",
            "replica                       275\n",
            "blunt_object                  202\n",
            "unknown                       125\n",
            "other                          83\n",
            "gun,vehicle                    37\n",
            "gun,knife                      35\n",
            "vehicle,gun                    15\n",
            "other,gun                       3\n",
            "knife,vehicle                   3\n",
            "blunt_object,knife              2\n",
            "blunt_object,blunt_object       2\n",
            "knife,blunt_object              2\n",
            "replica,vehicle                 1\n",
            "vehicle,knife,other             1\n",
            "other,blunt_object,knife        1\n",
            "Name: armed, dtype: int64\n"
          ]
        }
      ]
    },
    {
      "cell_type": "code",
      "source": [
        "#Armed nans: how to handle armed nans\n",
        "wapo_data['armed'] = wapo_data['armed'].fillna('not_reported')\n",
        "#Double check nan count\n",
        "nans_armed_check = wapo_data.isna().sum()\n",
        "print (nans_armed_check)"
      ],
      "metadata": {
        "colab": {
          "base_uri": "https://localhost:8080/"
        },
        "id": "PsnbtG1IGhcc",
        "outputId": "e2181289-439e-41cc-c0ae-b1c95cbc34fd"
      },
      "execution_count": null,
      "outputs": [
        {
          "output_type": "stream",
          "name": "stdout",
          "text": [
            "date                             0\n",
            "year                             0\n",
            "month_year                       0\n",
            "name                             0\n",
            "age                            502\n",
            "gender                           0\n",
            "armed                            0\n",
            "race                             0\n",
            "city                             6\n",
            "state                            0\n",
            "flee                           984\n",
            "body_camera                      0\n",
            "signs_of_mental_illness          0\n",
            "police_departments_involved      0\n",
            "dtype: int64\n"
          ]
        },
        {
          "output_type": "stream",
          "name": "stderr",
          "text": [
            "<ipython-input-21-b661228b7867>:2: SettingWithCopyWarning: \n",
            "A value is trying to be set on a copy of a slice from a DataFrame.\n",
            "Try using .loc[row_indexer,col_indexer] = value instead\n",
            "\n",
            "See the caveats in the documentation: https://pandas.pydata.org/pandas-docs/stable/user_guide/indexing.html#returning-a-view-versus-a-copy\n",
            "  wapo_data['armed'] = wapo_data['armed'].fillna('not_reported')\n"
          ]
        }
      ]
    },
    {
      "cell_type": "code",
      "source": [
        "#Exploring types of responses for armed\n",
        "armed_count = wapo_data['armed'].value_counts()\n",
        "print (armed_count)"
      ],
      "metadata": {
        "colab": {
          "base_uri": "https://localhost:8080/"
        },
        "id": "K_wV0L9sLuKU",
        "outputId": "19c6fa2a-5489-45f3-f11e-0742eb2ee4f1"
      },
      "execution_count": null,
      "outputs": [
        {
          "output_type": "stream",
          "name": "stdout",
          "text": [
            "gun                          4665\n",
            "knife                        1374\n",
            "unarmed                       480\n",
            "vehicle                       288\n",
            "undetermined                  284\n",
            "replica                       275\n",
            "not_reported                  210\n",
            "blunt_object                  202\n",
            "unknown                       125\n",
            "other                          83\n",
            "gun,vehicle                    37\n",
            "gun,knife                      35\n",
            "vehicle,gun                    15\n",
            "other,gun                       3\n",
            "knife,vehicle                   3\n",
            "blunt_object,blunt_object       2\n",
            "knife,blunt_object              2\n",
            "blunt_object,knife              2\n",
            "replica,vehicle                 1\n",
            "vehicle,knife,other             1\n",
            "other,blunt_object,knife        1\n",
            "Name: armed, dtype: int64\n"
          ]
        }
      ]
    },
    {
      "cell_type": "code",
      "source": [
        "#exploring the values for flee column\n",
        "flee_count = wapo_data['flee'].value_counts()\n",
        "print (flee_count)"
      ],
      "metadata": {
        "colab": {
          "base_uri": "https://localhost:8080/"
        },
        "id": "zC2oScs7LfbT",
        "outputId": "aa6cf299-0419-4f41-d745-e6eb047c57f6"
      },
      "execution_count": null,
      "outputs": [
        {
          "output_type": "stream",
          "name": "stdout",
          "text": [
            "not      4463\n",
            "car      1301\n",
            "foot     1040\n",
            "other     300\n",
            "Name: flee, dtype: int64\n"
          ]
        }
      ]
    },
    {
      "cell_type": "code",
      "source": [
        "#Flee nans: how to handle flee nans\n",
        "wapo_data['flee'] = wapo_data['flee'].fillna('not_reported')\n",
        "#Double check nan count\n",
        "nans_flee_check = wapo_data.isna().sum()\n",
        "print (nans_flee_check)"
      ],
      "metadata": {
        "colab": {
          "base_uri": "https://localhost:8080/"
        },
        "id": "zlJ1EHS-HAeK",
        "outputId": "5d5dedda-d662-4f16-aeb6-03dc5bf932e3"
      },
      "execution_count": null,
      "outputs": [
        {
          "output_type": "stream",
          "name": "stderr",
          "text": [
            "<ipython-input-24-798566738d9a>:2: SettingWithCopyWarning: \n",
            "A value is trying to be set on a copy of a slice from a DataFrame.\n",
            "Try using .loc[row_indexer,col_indexer] = value instead\n",
            "\n",
            "See the caveats in the documentation: https://pandas.pydata.org/pandas-docs/stable/user_guide/indexing.html#returning-a-view-versus-a-copy\n",
            "  wapo_data['flee'] = wapo_data['flee'].fillna('not_reported')\n"
          ]
        },
        {
          "output_type": "stream",
          "name": "stdout",
          "text": [
            "date                             0\n",
            "year                             0\n",
            "month_year                       0\n",
            "name                             0\n",
            "age                            502\n",
            "gender                           0\n",
            "armed                            0\n",
            "race                             0\n",
            "city                             6\n",
            "state                            0\n",
            "flee                             0\n",
            "body_camera                      0\n",
            "signs_of_mental_illness          0\n",
            "police_departments_involved      0\n",
            "dtype: int64\n"
          ]
        }
      ]
    },
    {
      "cell_type": "code",
      "source": [
        "#Checking count\n",
        "flee_count = wapo_data['flee'].value_counts()\n",
        "print (flee_count)"
      ],
      "metadata": {
        "colab": {
          "base_uri": "https://localhost:8080/"
        },
        "id": "KmTLOfKJMju1",
        "outputId": "cae1f507-de39-45a8-f817-143a10c03993"
      },
      "execution_count": null,
      "outputs": [
        {
          "output_type": "stream",
          "name": "stdout",
          "text": [
            "not             4463\n",
            "car             1301\n",
            "foot            1040\n",
            "not_reported     984\n",
            "other            300\n",
            "Name: flee, dtype: int64\n"
          ]
        }
      ]
    },
    {
      "cell_type": "code",
      "source": [
        "#City nans: how to handle city nans\n",
        "wapo_data['city'] = wapo_data['city'].fillna('not_reported')\n",
        "#Double check nan count\n",
        "nans_city_check = wapo_data.isna().sum()\n",
        "print (nans_city_check)"
      ],
      "metadata": {
        "colab": {
          "base_uri": "https://localhost:8080/"
        },
        "id": "JC6FJNFRGnHu",
        "outputId": "31ae7b7a-a586-4047-b735-dae789babf07"
      },
      "execution_count": null,
      "outputs": [
        {
          "output_type": "stream",
          "name": "stdout",
          "text": [
            "date                             0\n",
            "year                             0\n",
            "month_year                       0\n",
            "name                             0\n",
            "age                            502\n",
            "gender                           0\n",
            "armed                            0\n",
            "race                             0\n",
            "city                             0\n",
            "state                            0\n",
            "flee                             0\n",
            "body_camera                      0\n",
            "signs_of_mental_illness          0\n",
            "police_departments_involved      0\n",
            "dtype: int64\n"
          ]
        },
        {
          "output_type": "stream",
          "name": "stderr",
          "text": [
            "<ipython-input-26-18d0e034e1d0>:2: SettingWithCopyWarning: \n",
            "A value is trying to be set on a copy of a slice from a DataFrame.\n",
            "Try using .loc[row_indexer,col_indexer] = value instead\n",
            "\n",
            "See the caveats in the documentation: https://pandas.pydata.org/pandas-docs/stable/user_guide/indexing.html#returning-a-view-versus-a-copy\n",
            "  wapo_data['city'] = wapo_data['city'].fillna('not_reported')\n"
          ]
        }
      ]
    },
    {
      "cell_type": "code",
      "source": [
        "#Exploring the age variable\n",
        "\n",
        "age = wapo_data['age']\n",
        "\n",
        "n = len(age)\n",
        "\n",
        "#Getting mean\n",
        "# mean = sum(age) / n\n",
        "# print(\"Mean:\", mean)\n",
        "mean = age.mean(skipna=True)\n",
        "print(\"Mean:\", mean)\n",
        "\n",
        "#Getting median\n",
        "data_sorted = sorted(age)\n",
        "if n % 2 == 0:\n",
        "    median = (data_sorted[n//2-1] + data_sorted[n//2]) / 2\n",
        "else:\n",
        "    median = data_sorted[n//2]\n",
        "print(\"Median:\", median)\n",
        "\n",
        "#Checking age appearances\n",
        "age_count = age.value_counts()\n",
        "#print (age_count)\n",
        "\n",
        "#Plotting age on a bar graph\n",
        "age_count = age_count.reset_index(drop=False)\n",
        "#print (age_count)\n",
        "\n",
        "# #renaming columns of df\n",
        "age_df = age_count.rename(columns={'index': 'age', 'age': 'age_count'})\n",
        "#print ((age_df))\n",
        "\n",
        "#sort age df\n",
        "age_df_sorted = age_df.sort_values(by='age')\n",
        "print (age_df_sorted)\n",
        "\n",
        "# Plotting a bar chart\n",
        "age_df_sorted.plot.bar(x='age', y='age_count', rot=90, figsize=(25, 10))\n",
        "\n",
        "\n",
        "# Changing size of x ticks\n",
        "plt.xticks(fontsize=10)\n",
        "\n",
        "# Add labels and title\n",
        "plt.xlabel('age')\n",
        "plt.ylabel('age_count')\n",
        "plt.title('Age at time of death distribution across Wapo Dataset')\n",
        "\n",
        "# Create a larger figure\n",
        "plt.figure(figsize=(20,22))\n",
        "\n",
        "# Save the chart as a PNG file\n",
        "plt.savefig('DD_barchart.png')\n",
        "\n",
        "# Display the chart\n",
        "plt.show()\n",
        "#plt.tight_layout()"
      ],
      "metadata": {
        "colab": {
          "base_uri": "https://localhost:8080/",
          "height": 847
        },
        "id": "A3MVSe37Sm_E",
        "outputId": "c739eadd-be08-4055-8fcf-a57d30c1bebf"
      },
      "execution_count": null,
      "outputs": [
        {
          "output_type": "stream",
          "name": "stdout",
          "text": [
            "Mean: 37.220537832849985\n",
            "Median: 27.5\n",
            "     age  age_count\n",
            "80   2.0          1\n",
            "73   6.0          2\n",
            "78   8.0          1\n",
            "75  12.0          2\n",
            "70  13.0          3\n",
            "..   ...        ...\n",
            "74  86.0          2\n",
            "71  88.0          2\n",
            "77  89.0          1\n",
            "72  91.0          2\n",
            "79  92.0          1\n",
            "\n",
            "[81 rows x 2 columns]\n"
          ]
        },
        {
          "output_type": "display_data",
          "data": {
            "text/plain": [
              "<Figure size 1800x720 with 1 Axes>"
            ],
            "image/png": "[encoded data removed]"
          },
          "metadata": {
            "needs_background": "light"
          }
        },
        {
          "output_type": "display_data",
          "data": {
            "text/plain": [
              "<Figure size 1440x1584 with 0 Axes>"
            ]
          },
          "metadata": {}
        }
      ]
    },
    {
      "cell_type": "code",
      "source": [
        "####Handling Age: how to handle age nans\n",
        "#deciding between using mean and median to fill nans\n",
        "#since the distribution is not that even, using median\n",
        "\n",
        "\n",
        "#Replace nans with median\n",
        "wapo_data.fillna(median, inplace=True)\n",
        "\n",
        "# Calculate the new mean\n",
        "new_mean = wapo_data['age'].mean()\n",
        "print(\"New Mean:\", mean)\n",
        "\n",
        "#Double check nan count\n",
        "nans_age_check = wapo_data.isna().sum()\n",
        "print (nans_age_check)"
      ],
      "metadata": {
        "id": "Y01hySFOGJP_",
        "colab": {
          "base_uri": "https://localhost:8080/"
        },
        "outputId": "b0edc129-e0b2-442c-e4f6-335fb64e0e0c"
      },
      "execution_count": null,
      "outputs": [
        {
          "output_type": "stream",
          "name": "stdout",
          "text": [
            "New Mean: 37.220537832849985\n",
            "date                           0\n",
            "year                           0\n",
            "month_year                     0\n",
            "name                           0\n",
            "age                            0\n",
            "gender                         0\n",
            "armed                          0\n",
            "race                           0\n",
            "city                           0\n",
            "state                          0\n",
            "flee                           0\n",
            "body_camera                    0\n",
            "signs_of_mental_illness        0\n",
            "police_departments_involved    0\n",
            "dtype: int64\n"
          ]
        },
        {
          "output_type": "stream",
          "name": "stderr",
          "text": [
            "<ipython-input-74-ee5bb3e754a1>:7: SettingWithCopyWarning: \n",
            "A value is trying to be set on a copy of a slice from a DataFrame\n",
            "\n",
            "See the caveats in the documentation: https://pandas.pydata.org/pandas-docs/stable/user_guide/indexing.html#returning-a-view-versus-a-copy\n",
            "  wapo_data.fillna(median, inplace=True)\n"
          ]
        }
      ]
    },
    {
      "cell_type": "markdown",
      "source": [
        "#Text for report about how nans were handled\n",
        "\n",
        "\n",
        "Some of the most important variables were not missing any values. These variables included date, race, state, and signs of mental illness.\n",
        "\n",
        "\n",
        "There are 499 entires with no reported name. People's names do not matter for this analysis. All NANs with \"Unknown\".\n",
        "\n",
        "\n",
        "\n",
        "Since there is no full dataset available for the year 2023 as it is still currently this year, all 2023 data was dropped so that it would not impact the analysis.\n",
        "\n",
        "In order not to introduce bias into the analysis, I have decided to keep entries where gender is not reported but fill in those missing values with \"not reported. Although there were only 35 entries, I did not want to assume a person's gender based off their name. It is also important to note that 28 out of the 35 entries missing reported gender did not have names reported.\n",
        "\n",
        "To handle all the missing values under the armed and flee variable, they were all filled in with \"not reported\"\n",
        "\n",
        "\n",
        "\n"
      ],
      "metadata": {
        "id": "LmW3zJ1zY5U1"
      }
    },
    {
      "cell_type": "code",
      "source": [
        "###RUN LAST AFTER MISSING AGE VALUES ARE FILLED IN/DEALT WITH\n",
        "#Outputting cleaned data set into new csv\n",
        "### NOTE: path variable is your own path defined above\n",
        "# wapo_data.to_csv(path + \"no_nan_wapo_data\")\n",
        "\n",
        "###EXAMPLE:\n",
        "### wapo_data.to_csv(path + \"INSERT NAME HERE.csv\")"
      ],
      "metadata": {
        "id": "7X_ORQXBPcer"
      },
      "execution_count": null,
      "outputs": []
    }
  ]
}